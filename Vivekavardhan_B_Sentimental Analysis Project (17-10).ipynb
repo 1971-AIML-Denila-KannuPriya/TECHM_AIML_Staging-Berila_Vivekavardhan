{
 "cells": [
  {
   "cell_type": "code",
   "execution_count": 6,
   "id": "a7f8e2f2-f0a7-4d5b-a3f7-2be586c0f3f5",
   "metadata": {},
   "outputs": [],
   "source": [
    "import pandas as pd"
   ]
  },
  {
   "cell_type": "code",
   "execution_count": 7,
   "id": "95c6bbd3-a5cd-4ddf-9586-8db031bb8740",
   "metadata": {},
   "outputs": [
    {
     "data": {
      "text/html": [
       "<div>\n",
       "<style scoped>\n",
       "    .dataframe tbody tr th:only-of-type {\n",
       "        vertical-align: middle;\n",
       "    }\n",
       "\n",
       "    .dataframe tbody tr th {\n",
       "        vertical-align: top;\n",
       "    }\n",
       "\n",
       "    .dataframe thead th {\n",
       "        text-align: right;\n",
       "    }\n",
       "</style>\n",
       "<table border=\"1\" class=\"dataframe\">\n",
       "  <thead>\n",
       "    <tr style=\"text-align: right;\">\n",
       "      <th></th>\n",
       "      <th>Review</th>\n",
       "      <th>Rating</th>\n",
       "    </tr>\n",
       "  </thead>\n",
       "  <tbody>\n",
       "    <tr>\n",
       "      <th>0</th>\n",
       "      <td>nice hotel expensive parking got good deal sta...</td>\n",
       "      <td>4</td>\n",
       "    </tr>\n",
       "    <tr>\n",
       "      <th>1</th>\n",
       "      <td>ok nothing special charge diamond member hilto...</td>\n",
       "      <td>2</td>\n",
       "    </tr>\n",
       "    <tr>\n",
       "      <th>2</th>\n",
       "      <td>nice rooms not 4* experience hotel monaco seat...</td>\n",
       "      <td>3</td>\n",
       "    </tr>\n",
       "    <tr>\n",
       "      <th>3</th>\n",
       "      <td>unique, great stay, wonderful time hotel monac...</td>\n",
       "      <td>5</td>\n",
       "    </tr>\n",
       "    <tr>\n",
       "      <th>4</th>\n",
       "      <td>great stay great stay, went seahawk game aweso...</td>\n",
       "      <td>5</td>\n",
       "    </tr>\n",
       "    <tr>\n",
       "      <th>5</th>\n",
       "      <td>love monaco staff husband stayed hotel crazy w...</td>\n",
       "      <td>5</td>\n",
       "    </tr>\n",
       "    <tr>\n",
       "      <th>6</th>\n",
       "      <td>cozy stay rainy city, husband spent 7 nights m...</td>\n",
       "      <td>5</td>\n",
       "    </tr>\n",
       "    <tr>\n",
       "      <th>7</th>\n",
       "      <td>excellent staff, housekeeping quality hotel ch...</td>\n",
       "      <td>4</td>\n",
       "    </tr>\n",
       "    <tr>\n",
       "      <th>8</th>\n",
       "      <td>hotel stayed hotel monaco cruise, rooms genero...</td>\n",
       "      <td>5</td>\n",
       "    </tr>\n",
       "    <tr>\n",
       "      <th>9</th>\n",
       "      <td>excellent stayed hotel monaco past w/e delight...</td>\n",
       "      <td>5</td>\n",
       "    </tr>\n",
       "  </tbody>\n",
       "</table>\n",
       "</div>"
      ],
      "text/plain": [
       "                                              Review  Rating\n",
       "0  nice hotel expensive parking got good deal sta...       4\n",
       "1  ok nothing special charge diamond member hilto...       2\n",
       "2  nice rooms not 4* experience hotel monaco seat...       3\n",
       "3  unique, great stay, wonderful time hotel monac...       5\n",
       "4  great stay great stay, went seahawk game aweso...       5\n",
       "5  love monaco staff husband stayed hotel crazy w...       5\n",
       "6  cozy stay rainy city, husband spent 7 nights m...       5\n",
       "7  excellent staff, housekeeping quality hotel ch...       4\n",
       "8  hotel stayed hotel monaco cruise, rooms genero...       5\n",
       "9  excellent stayed hotel monaco past w/e delight...       5"
      ]
     },
     "execution_count": 7,
     "metadata": {},
     "output_type": "execute_result"
    }
   ],
   "source": [
    "data=pd.read_csv(\"tripadvisor_hotel_reviews.csv\")\n",
    "data=data.head(10)\n",
    "data"
   ]
  },
  {
   "cell_type": "code",
   "execution_count": 9,
   "id": "f5225fcd-8a77-46f8-9d33-0bfef5f0a21d",
   "metadata": {},
   "outputs": [],
   "source": [
    "from azure.ai.textanalytics import TextAnalyticsClient\n",
    "from azure.core.credentials import AzureKeyCredential\n",
    "\n",
    "key=\"b3ae9e86477d433b83a8ba9f1b1b381b\"\n",
    "endpoint=\"https://textanaly1.cognitiveservices.azure.com/\""
   ]
  },
  {
   "cell_type": "code",
   "execution_count": 10,
   "id": "8c022420-54ec-4233-8414-1e92908e0184",
   "metadata": {},
   "outputs": [],
   "source": [
    "client=TextAnalyticsClient(\n",
    "    endpoint=endpoint,\n",
    "    credential=AzureKeyCredential(key)\n",
    ")"
   ]
  },
  {
   "cell_type": "code",
   "execution_count": 11,
   "id": "b23a7048-f0af-43e3-be2e-4ccf84b719d3",
   "metadata": {},
   "outputs": [],
   "source": [
    "def Analyse_Summary(summary):\n",
    "    summary_sentiment=client.analyze_sentiment(summary)\n",
    "    sent_res=[]\n",
    "    for i in summary_sentiment:\n",
    "        sent_res.append(i.sentiment)\n",
    "    return sent_res"
   ]
  },
  {
   "cell_type": "code",
   "execution_count": 13,
   "id": "e82ca0ce-8fe8-4930-a449-b1f3a27feebd",
   "metadata": {},
   "outputs": [
    {
     "name": "stdout",
     "output_type": "stream",
     "text": [
      "Index(['Review', 'Rating'], dtype='object')\n"
     ]
    }
   ],
   "source": [
    "print(data.columns)"
   ]
  },
  {
   "cell_type": "code",
   "execution_count": 14,
   "id": "e5baf966-1c16-4f4b-9e20-7293226126df",
   "metadata": {},
   "outputs": [],
   "source": [
    "lis=list(data['Review'])"
   ]
  },
  {
   "cell_type": "code",
   "execution_count": 15,
   "id": "142fdb81-57eb-4ea6-b97a-da3fa3f03503",
   "metadata": {},
   "outputs": [
    {
     "name": "stdout",
     "output_type": "stream",
     "text": [
      "['nice hotel expensive parking got good deal stay hotel anniversary, arrived late evening took advice previous reviews did valet parking, check quick easy, little disappointed non-existent view room room clean nice size, bed comfortable woke stiff neck high pillows, not soundproof like heard music room night morning loud bangs doors opening closing hear people talking hallway, maybe just noisy neighbors, aveda bath products nice, did not goldfish stay nice touch taken advantage staying longer, location great walking distance shopping, overall nice experience having pay 40 parking night,  ', 'ok nothing special charge diamond member hilton decided chain shot 20th anniversary seattle, start booked suite paid extra website description not, suite bedroom bathroom standard hotel room, took printed reservation desk showed said things like tv couch ect desk clerk told oh mixed suites description kimpton website sorry free breakfast, got kidding, embassy suits sitting room bathroom bedroom unlike kimpton calls suite, 5 day stay offer correct false advertising, send kimpton preferred guest website email asking failure provide suite advertised website reservation description furnished hard copy reservation printout website desk manager duty did not reply solution, send email trip guest survey did not follow email mail, guess tell concerned guest.the staff ranged indifferent not helpful, asked desk good breakfast spots neighborhood hood told no hotels, gee best breakfast spots seattle 1/2 block away convenient hotel does not know exist, arrived late night 11 pm inside run bellman busy chating cell phone help bags.prior arrival emailed hotel inform 20th anniversary half really picky wanted make sure good, got nice email saying like deliver bottle champagne chocolate covered strawberries room arrival celebrate, told needed foam pillows, arrival no champagne strawberries no foam pillows great room view alley high rise building good not better housekeeping staff cleaner room property, impressed left morning shopping room got short trips 2 hours, beds comfortable.not good ac-heat control 4 x 4 inch screen bring green shine directly eyes night, light sensitive tape controls.this not 4 start hotel clean business hotel super high rates, better chain hotels seattle,  ', \"nice rooms not 4* experience hotel monaco seattle good hotel n't 4* level.positives large bathroom mediterranean suite comfortable bed pillowsattentive housekeeping staffnegatives ac unit malfunctioned stay desk disorganized, missed 3 separate wakeup calls, concierge busy hard touch, did n't provide guidance special requests.tv hard use ipod sound dock suite non functioning. decided book mediterranean suite 3 night weekend stay 1st choice rest party filled, comparison w spent 45 night larger square footage room great soaking tub whirlpool jets nice shower.before stay hotel arrange car service price 53 tip reasonable driver waiting arrival.checkin easy downside room picked 2 person jacuzi tub no bath accessories salts bubble bath did n't stay, night got 12/1a checked voucher bottle champagne nice gesture fish waiting room, impression room huge open space felt room big, tv far away bed chore change channel, ipod dock broken disappointing.in morning way asked desk check thermostat said 65f 74 2 degrees warm try cover face night bright blue light kept, got room night no, 1st drop desk, called maintainence came look thermostat told play settings happy digital box wo n't work, asked wakeup 10am morning did n't happen, called later 6pm nap wakeup forgot, 10am wakeup morning yep forgotten.the bathroom facilities great room surprised room sold whirlpool bath tub n't bath amenities, great relax water jets going,  \", \"unique, great stay, wonderful time hotel monaco, location excellent short stroll main downtown shopping area, pet friendly room showed no signs animal hair smells, monaco suite sleeping area big striped curtains pulled closed nice touch felt cosy, goldfish named brandi enjoyed, did n't partake free wine coffee/tea service lobby thought great feature, great staff friendly, free wireless internet hotel worked suite 2 laptops, decor lovely eclectic mix pattens color palatte, animal print bathrobes feel like rock stars, nice did n't look like sterile chain hotel hotel personality excellent stay,  \", \"great stay great stay, went seahawk game awesome, downfall view building did n't complain, room huge staff helpful, booked hotels website seahawk package, no charge parking got voucher taxi, problem taxi driver did n't want accept voucher barely spoke english, funny thing speak arabic called started making comments girlfriend cell phone buddy, took second realize just said fact speak language face priceless, ass told, said large city, told head doorman issue called cab company promply answer did n't, apologized offered pay taxi, bucks 2 miles stadium, game plan taxi return going humpin, great walk did n't mind, right christmas wonderful lights, homeless stowed away building entrances leave, police presence not greatest area stadium, activities 7 blocks pike street waterfront great coffee shops way, hotel mantained foyer awesome, wine tasting available evening, best dog, taking st. bernard time family, safes hotel located service desk room, bathroom huge jetted tub huge, funny house keeping walked girlfriend getting dressed, did n't hear knock doing turn service, screamed girlfriend screams hit floor laughing, started talking spanish worked, place recommend price, check online deals just good not better, besite contains deals vouchers travel websites n't tell,  \", \"love monaco staff husband stayed hotel crazy weekend attending memorial service best friend husband celebrating 12th wedding anniversary, talk mixed emotions, booked suite hotel monte carlos, loaned beautiful fan-tanned goldfish named joliet weekend visited dogs worked desk human companions, room decorated nicely couch used pillows, l'occitane bath amenities welcome sight, room quiet peaceful, wireless internet access wonderful server went morning leaving problems printing boarding passes, afternoon reception serves oenophile-satisfying wine australia scrumptious cookies, restaurant closed renovation stay finally ate food good drinks better, word caution restaurant larger person not sit booths wo n't fit, 5'6 125 lbs husband 5'9 175. table smack-against stomach couple inches space mighty uncomfortable patron larger pregnant, bad design opinion place decorated funky welcoming way metal wood handblown glass light fixtures expect seattle capital glass art industry, definitely stay reason,  \", 'cozy stay rainy city, husband spent 7 nights monaco early january 2008. business trip chance come ride.we booked monte carlo suite proved comfortable longish stay, room 905 located street building, street noise not problem view interesting rooms building look dank alley midsection large office building, suite comfortable plenty room spread, bathroom attractive squeaky clean small comparison generous proportions sitting sleeping areas, lots comfortable seating options good lighting plenty storage clothing luggage, hotel staff friendly efficient, housekeeping staff did great job pleasant, requests responded quickly.the location quite good, easy walk pike street market seattle art museum notch shopping dining options.a positive experience,  ', 'excellent staff, housekeeping quality hotel chocked staff make feel home, experienced exceptional service desk staff concierge door men maid service needs work, maid failed tuck sheets foot bed instance soiled sheets used, staff quickley resolved soiled sheets issue, guess relates employee not reflection rest staff.we received excellent advice concierge regarding resturants area happy hour wine tasting nice touch staff went way make feel home.great location like close good food shopping took play 5th street theather well.pikes market pioneer square access mono rail short walking distance,  ', 'hotel stayed hotel monaco cruise, rooms generous decorated uniquely, hotel remodeled pacific bell building charm sturdiness, everytime walked bell men felt like coming home, secure, great single travelers, location fabulous, walk things pike market space needle.little grocery/drug store block away, today green, bravo, 1 double bed room room bed couch separated curtain, snoring mom slept curtain, great food nearby,  ', 'excellent stayed hotel monaco past w/e delight, reception staff friendly professional room smart comfortable bed, particularly liked reception small dog received staff guests spoke loved, mild negative distance uphill ppmarket restaurants 1st, overall great experience,  ']\n"
     ]
    }
   ],
   "source": [
    "print(lis)"
   ]
  },
  {
   "cell_type": "code",
   "execution_count": 16,
   "id": "98684cfe-cb1e-499b-8095-288ea1485ff5",
   "metadata": {},
   "outputs": [
    {
     "name": "stdout",
     "output_type": "stream",
     "text": [
      "['positive', 'negative', 'mixed', 'positive', 'positive', 'mixed', 'positive', 'positive', 'neutral', 'positive']\n"
     ]
    }
   ],
   "source": [
    "sentiment=Analyse_Summary(lis)\n",
    "print(sentiment)"
   ]
  },
  {
   "cell_type": "code",
   "execution_count": 17,
   "id": "d7ca2011-953e-4ce8-a8df-227f34d9e484",
   "metadata": {},
   "outputs": [],
   "source": [
    "def key_phrase(Text):\n",
    "    key_res=[]\n",
    "    summary_keyphrase=client.extract_key_phrases(Text)\n",
    "    for i in summary_keyphrase:\n",
    "        key_res.append(i.key_phrases)\n",
    "    return key_res"
   ]
  },
  {
   "cell_type": "code",
   "execution_count": 21,
   "id": "3e40c04a-7623-4768-8ff7-f4d9d9fd9c3c",
   "metadata": {},
   "outputs": [],
   "source": [
    "lis1=data['Review'].to_list()"
   ]
  },
  {
   "cell_type": "code",
   "execution_count": 22,
   "id": "ffceb643-b50d-4174-99cd-398fbd2fc5cc",
   "metadata": {},
   "outputs": [
    {
     "name": "stdout",
     "output_type": "stream",
     "text": [
      "[['good deal stay hotel anniversary', 'stiff neck high pillows', 'nice hotel expensive parking', 'aveda bath products', 'walking distance shopping', 'nice size', 'nice touch', 'nice experience', '40 parking night', 'previous reviews', 'music room', 'bangs doors', 'noisy neighbors', 'advice', 'disappointed', 'bed', 'people', 'hallway', 'goldfish', 'advantage', 'location', 'overall'], ['4 start hotel clean business hotel super high rates', 'hard copy reservation printout website desk manager', 'suite bedroom bathroom standard hotel room', 'special charge diamond member hilton', 'tv couch ect desk clerk', 'housekeeping staff cleaner room property', 'cell phone help bags', 'light sensitive tape controls', 'great room view alley', 'email trip guest survey', 'website reservation description', 'morning shopping room', 'extra website description', 'strawberries room arrival', '20th anniversary seattle', 'mixed suites description', 'correct false advertising', '20th anniversary half', 'good ac-heat control', '4 x 4 inch screen', 'good breakfast spots', 'best breakfast spots', 'reservation desk', 'convenient hotel', 'guest website', 'kimpton website', 'free breakfast', 'concerned guest', 'champagne strawberries', 'email mail', 'nice email', 'chain shot', 'embassy suits', '5 day stay', 'neighborhood hood', 'champagne chocolate', 'foam pillows', 'short trips', 'kimpton calls', 'chain hotels', 'ok', 'things', 'failure', 'duty', 'solution', 'run', 'bellman', 'bottle', 'rise', 'beds', 'green', 'eyes'], ['large bathroom mediterranean suite comfortable bed pillowsattentive housekeeping staffnegatives ac unit malfunctioned stay desk', 'mediterranean suite 3 night weekend stay', 'bed chore change channel', '45 night larger square footage room', 'nice gesture fish waiting room', 'ipod sound dock suite', 'great relax water jets', '1st choice rest party', 'soaking tub whirlpool jets', '1st drop desk', 'desk check thermostat', 'bathroom facilities', '2 person jacuzi tub', 'whirlpool bath tub', 'guidance special requests', 'car service price', '53 tip reasonable driver', 'voucher bottle champagne', 'huge open space', '65f 74 2 degrees warm', 'bright blue light', 'happy digital box', 'bath accessories salts', '3 separate wakeup calls', '6pm nap wakeup', '4* experience hotel monaco', 'ipod dock', 'nice rooms', 'bubble bath', 'bath amenities', 'downside room', 'impression room', 'good hotel', 'hard touch', 'play settings', '4* level', 'concierge', 'tv', 'book', 'comparison', 'shower', 'arrival', 'big', 'disappointing', 'morning', 'maintainence', '10am'], ['excellent short stroll main downtown shopping area', 'sterile chain hotel hotel personality', 'free wireless internet hotel', 'lovely eclectic mix pattens', 'wonderful time hotel monaco', 'pet friendly room', 'animal hair smells', 'big striped curtains', 'tea service lobby', 'animal print bathrobes', 'great staff friendly', 'excellent stay', 'monaco suite', 'great feature', 'nice touch', 'color palatte', 'rock stars', 'location', 'signs', 'goldfish', '2 laptops'], ['st. bernard time family', 'hotels website seahawk package', 'girlfriend cell phone buddy', 'head doorman issue', 'christmas wonderful lights', 'downfall view building', 'greatest area stadium', 'great coffee shops', 'game plan taxi', 'service desk room', 'seahawk game', '2 miles stadium', 'building entrances', 'turn service', 'girlfriend screams', 'great stay', 'taxi driver', 'pay taxi', 'great walk', 'charge parking', 'funny thing', 'second realize', 'large city', 'police presence', 'best dog', 'funny house', 'floor laughing', 'travel websites', 'voucher taxi', 'online deals', 'staff', 'problem', 'english', 'arabic', 'comments', 'fact', 'language', 'company', 'bucks', 'activities', 'street', 'waterfront', 'wine', 'bathroom', 'tub', 'knock', 'spanish', 'place', 'price', 'besite', 'vouchers'], ['funky welcoming way metal wood handblown glass light fixtures', 'oenophile-satisfying wine australia scrumptious cookies', 'capital glass art industry', 'stomach couple inches space', 'bad design opinion place', 'uncomfortable patron larger pregnant', 'love monaco staff', '12th wedding anniversary', 'beautiful fan-tanned goldfish', 'occitane bath amenities', 'wireless internet access', 'best friend husband', 'hotel monte carlos', 'larger person', 'memorial service', 'mixed emotions', 'human companions', 'wonderful server', 'boarding passes', 'afternoon reception', 'good drinks', 'dogs', 'desk', 'room', 'pillows', 'sight', 'peaceful', 'morning', 'problems', 'restaurant', 'renovation', 'food', 'word', 'booths', 'lbs', 'reason', '6'], ['bathroom attractive squeaky clean small comparison', 'street market seattle art museum notch', 'cozy stay rainy city', 'plenty storage clothing luggage', 'midsection large office building', 'lots comfortable seating options', 'comfortable longish stay', 'plenty room spread', 'shopping dining options', 'interesting rooms building', 'monte carlo suite', 'street building', 'street noise', '7 nights monaco', 'business trip', 'problem view', 'generous proportions', 'sleeping areas', 'good lighting', 'hotel staff', 'housekeeping staff', 'great job', 'walk pike', 'positive experience', 'husband', 'january', 'alley', 'requests', 'location', '905'], ['exceptional service desk staff concierge door men', 'pikes market pioneer square access', 'close good food shopping', 'excellent advice concierge', 'housekeeping quality hotel', 'nice touch staff', 'soiled sheets issue', 'excellent staff', 'rest staff', 'foot bed', 'resturants area', 'happy hour', 'great location', '5th street', 'mono rail', 'walking distance', 'work', 'maid', 'tuck', 'employee', 'reflection', 'wine'], ['1 double bed room room bed couch', 'hotel monaco cruise', 'market space needle', 'little grocery/drug store', 'pacific bell building', 'great single travelers', 'bell men', 'great food', 'rooms', 'sturdiness', 'location', 'things', 'curtain', 'mom'], ['reception staff friendly professional room smart comfortable bed', 'mild negative distance uphill', 'reception small dog', 'staff guests', 'hotel monaco', 'ppmarket restaurants', 'great experience', 'excellent', 'delight']]\n"
     ]
    }
   ],
   "source": [
    "print(key_phrase(lis1))"
   ]
  },
  {
   "cell_type": "code",
   "execution_count": 23,
   "id": "a875f5cd-ecf2-45e3-abd9-1133d31cef81",
   "metadata": {},
   "outputs": [],
   "source": [
    "def entities(Text):\n",
    "    entities=[]\n",
    "    ent_res=client.recognize_entities(Text[0:5])\n",
    "    for i in ent_res:\n",
    "        entities.append([(entity.text, entity.category, entity.subcategory) for entity in i.entities])\n",
    "    return entities\n",
    "        "
   ]
  },
  {
   "cell_type": "code",
   "execution_count": 24,
   "id": "553c7e1c-f661-4b6c-a98b-1d657fdf2e4a",
   "metadata": {},
   "outputs": [
    {
     "name": "stdout",
     "output_type": "stream",
     "text": [
      "[('late evening', 'DateTime', 'TimeRange'), ('bed', 'Product', None), ('pillows', 'Product', None), ('night', 'DateTime', 'TimeRange'), ('morning', 'DateTime', 'TimeRange'), ('neighbors', 'PersonType', None), ('products', 'Product', None), ('40', 'Quantity', 'Number'), ('night', 'DateTime', 'TimeRange')]\n",
      "[('member', 'PersonType', None), ('hilton', 'Person', None), ('20th anniversary', 'Event', None), ('seattle', 'Location', 'City'), ('reservation', 'Skill', None), ('desk clerk', 'PersonType', None), ('5 day', 'DateTime', 'Duration'), ('reservation', 'Skill', None), ('desk manager', 'PersonType', None), ('guest', 'Skill', None), ('guest', 'PersonType', None), ('staff', 'PersonType', None), ('1/2', 'Quantity', 'Number'), ('11 pm', 'DateTime', 'Time'), ('cell phone help bags', 'Product', None), ('20th', 'Quantity', 'Ordinal'), ('half', 'Quantity', 'Number'), ('bottle', 'Product', None), ('champagne chocolate covered strawberries', 'Product', None), ('room', 'Location', 'Structural'), ('arrival', 'Event', None), ('foam pillows', 'Product', None), ('champagne strawberries', 'Product', None), ('foam pillows', 'Product', None), ('alley', 'Location', None), ('housekeeping', 'Skill', None), ('staff', 'Skill', None), ('morning', 'DateTime', 'TimeRange'), ('2 hours', 'DateTime', 'Duration'), ('beds', 'Product', None), ('ac-heat control', 'Product', None), ('4 x 4 inch', 'Quantity', 'Dimension'), ('screen', 'Product', None), ('night', 'DateTime', 'TimeRange'), ('tape controls', 'Product', None), ('4', 'Quantity', 'Number'), ('seattle', 'Location', 'City')]\n",
      "[('rooms', 'Location', None), ('4', 'Quantity', 'Number'), ('monaco', 'Location', None), ('seattle', 'Location', 'City'), ('4', 'Quantity', 'Number'), ('bed', 'Product', None), ('housekeeping', 'Skill', None), ('staffnegatives', 'PersonType', None), ('3', 'Quantity', 'Number'), ('concierge', 'PersonType', None), ('requests.tv', 'URL', None), ('ipod sound dock suite', 'Product', None), ('mediterranean suite', 'Location', None), ('3 night', 'DateTime', 'Duration'), ('weekend', 'DateTime', 'DateRange'), ('1st', 'Quantity', 'Ordinal'), ('45 night', 'DateTime', 'Duration'), ('car', 'Product', None), ('53', 'Quantity', 'Number'), ('driver', 'PersonType', None), ('2', 'Quantity', 'Number'), ('jacuzi tub', 'Product', None), ('accessories', 'Product', None), ('night', 'DateTime', 'TimeRange'), ('12', 'Quantity', 'Number'), ('ipod', 'Product', None), ('disappointing.in', 'URL', None), ('morning', 'DateTime', 'TimeRange'), ('74', 'Quantity', 'Number'), ('2 degrees', 'Quantity', 'Temperature'), ('night', 'DateTime', 'TimeRange'), ('night', 'DateTime', 'TimeRange'), ('maintainence', 'Skill', None), ('thermostat', 'Product', None), ('10am morning', 'DateTime', 'Time'), ('6pm', 'DateTime', 'Time'), ('10am', 'DateTime', 'Time')]\n",
      "[('hotel monaco', 'Location', None), ('downtown', 'Location', 'Structural'), ('shopping area', 'Location', None), ('room', 'Location', 'Structural'), ('monaco', 'Location', None), ('curtains', 'Product', None), ('wine', 'Product', None), ('coffee', 'Product', None), ('tea', 'Product', None), ('2', 'Quantity', 'Number'), ('laptops', 'Product', None), ('pattens', 'Product', None), ('palatte', 'Product', None), ('animal print', 'Product', None), ('bathrobes', 'Product', None), ('chain hotel', 'Organization', None)]\n",
      "[('seahawk', 'Location', None), ('room', 'Location', 'Structural'), ('staff', 'PersonType', None), ('taxi driver', 'PersonType', None), ('english', 'Skill', None), ('girlfriend', 'PersonType', None), ('cell phone', 'Product', None), ('buddy', 'PersonType', None), ('head doorman', 'PersonType', None), ('promply', 'Organization', None), ('2 miles', 'Quantity', 'Dimension'), ('christmas', 'DateTime', 'Date'), ('homeless', 'PersonType', None), ('building', 'Location', None), ('police', 'PersonType', None), ('stadium', 'Location', 'Structural'), ('7', 'Quantity', 'Number'), ('pike street', 'Address', None), ('wine', 'Product', None), ('evening', 'DateTime', 'TimeRange'), ('st. bernard', 'Location', 'City'), ('girlfriend', 'PersonType', None), ('girlfriend', 'PersonType', None), ('spanish', 'Skill', None)]\n"
     ]
    }
   ],
   "source": [
    "for i in entities(lis1):\n",
    "    print(i)"
   ]
  },
  {
   "cell_type": "code",
   "execution_count": 25,
   "id": "94c45597-1126-4866-8451-c69980a6772f",
   "metadata": {},
   "outputs": [],
   "source": [
    "import matplotlib.pyplot as plt"
   ]
  },
  {
   "cell_type": "code",
   "execution_count": 26,
   "id": "fda90f02-af43-4fb2-a091-bedbe05f4fbc",
   "metadata": {},
   "outputs": [
    {
     "data": {
      "text/plain": [
       "(array([7., 3.]), array([0. , 1.5, 3. ]), <BarContainer object of 2 artists>)"
      ]
     },
     "execution_count": 26,
     "metadata": {},
     "output_type": "execute_result"
    },
    {
     "data": {
      "image/png": "[encoded data removed]",
      "text/plain": [
       "<Figure size 640x480 with 1 Axes>"
      ]
     },
     "metadata": {},
     "output_type": "display_data"
    }
   ],
   "source": [
    "plt.hist(sentiment,bins=2,edgecolor='black')"
   ]
  },
  {
   "cell_type": "code",
   "execution_count": 3,
   "id": "38efab38-fb4f-4980-9480-355a2fe431ab",
   "metadata": {},
   "outputs": [],
   "source": [
    "import os\n",
    "SPEECH_KEY = os.getenv(\"SPEECH_KEY\", \"c721a4fe4cc2457583f177564fbf697e\")\n",
    "SPEECH_REGION = \"eastus\""
   ]
  },
  {
   "cell_type": "code",
   "execution_count": 4,
   "id": "a3a37252-28cb-4ebc-b415-5221ab014896",
   "metadata": {},
   "outputs": [],
   "source": [
    "def text_to_speech(text, language):\n",
    "    global speech_synthesizer\n",
    "    try:\n",
    "        speech_config = speechsdk.SpeechConfig(subscription=SPEECH_KEY, region=SPEECH_REGION)\n",
    "        speech_config.speech_synthesis_voice_name = LANGUAGE_OPTIONS[language][1]\n",
    "        speech_synthesizer = speechsdk.SpeechSynthesizer(speech_config=speech_config)\n",
    "        \n",
    "        # Mark that speech is ongoing\n",
    "        st.session_state.speech_ongoing = True\n",
    "\n",
    "        # Use a placeholder for dynamic content\n",
    "        status_placeholder = st.empty()\n",
    "\n",
    "        def speech_synthesis_callback(evt):\n",
    "            if evt.result.reason == speechsdk.ResultReason.SynthesizingAudioCompleted:\n",
    "                status_placeholder.success(\"Speech synthesis completed successfully.\")\n",
    "                st.session_state.speech_ongoing = False\n",
    "            elif evt.result.reason == speechsdk.ResultReason.Canceled:\n",
    "                status_placeholder.error(f\"Speech synthesis canceled: {evt.result.cancellation_details.reason}\")\n",
    "                st.session_state.speech_ongoing = False\n",
    "\n",
    "        speech_synthesizer.synthesizing.connect(lambda evt: status_placeholder.info(\"Synthesizing speech...\"))\n",
    "        speech_synthesizer.synthesis_completed.connect(speech_synthesis_callback)\n",
    "        speech_synthesizer.synthesis_canceled.connect(speech_synthesis_callback)\n",
    "\n",
    "        # Start the speech synthesis\n",
    "        result = speech_synthesizer.speak_text_async(text).get()\n",
    "        \n",
    "        if result.reason == speechsdk.ResultReason.SynthesizingAudioCompleted:\n",
    "            status_placeholder.success(\"Speech synthesis completed successfully.\")\n",
    "        elif result.reason == speechsdk.ResultReason.Canceled:\n",
    "            status_placeholder.error(f\"Speech synthesis canceled: {result.cancellation_details.reason}\")\n",
    "        \n",
    "        st.session_state.speech_ongoing = False\n",
    "\n",
    "    except Exception as e:\n",
    "        st.error(f\"Error in speech synthesis: {e}\")\n",
    "        st.session_state.speech_ongoing = False\n"
   ]
  },
  {
   "cell_type": "code",
   "execution_count": 5,
   "id": "01b1807e-4f9a-4100-aa18-cbd953dbf74b",
   "metadata": {},
   "outputs": [],
   "source": [
    "# Stop Speech\n",
    "def stop_speech():\n",
    "    global speech_synthesizer\n",
    "    if speech_synthesizer:\n",
    "        speech_synthesizer.stop_speaking_async()\n",
    "        st.session_state.speech_ongoing = False\n",
    "        st.success(\"Speech synthesis stopped.\")"
   ]
  },
  {
   "cell_type": "code",
   "execution_count": null,
   "id": "51921ca8-9b95-4d78-b133-926be366feea",
   "metadata": {},
   "outputs": [],
   "source": []
  }
 ],
 "metadata": {
  "kernelspec": {
   "display_name": "Python 3 (ipykernel)",
   "language": "python",
   "name": "python3"
  },
  "language_info": {
   "codemirror_mode": {
    "name": "ipython",
    "version": 3
   },
   "file_extension": ".py",
   "mimetype": "text/x-python",
   "name": "python",
   "nbconvert_exporter": "python",
   "pygments_lexer": "ipython3",
   "version": "3.12.4"
  }
 },
 "nbformat": 4,
 "nbformat_minor": 5
}
